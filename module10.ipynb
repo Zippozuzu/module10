{
 "cells": [
  {
   "cell_type": "code",
   "execution_count": 1,
   "metadata": {},
   "outputs": [
    {
     "name": "stdout",
     "output_type": "stream",
     "text": [
      "Requirement already satisfied: scikit-surprise in /opt/anaconda3/lib/python3.12/site-packages (1.1.4)\n",
      "Requirement already satisfied: joblib>=1.2.0 in /opt/anaconda3/lib/python3.12/site-packages (from scikit-surprise) (1.4.2)\n",
      "Requirement already satisfied: numpy>=1.19.5 in /opt/anaconda3/lib/python3.12/site-packages (from scikit-surprise) (1.26.4)\n",
      "Requirement already satisfied: scipy>=1.6.0 in /opt/anaconda3/lib/python3.12/site-packages (from scikit-surprise) (1.13.1)\n"
     ]
    }
   ],
   "source": [
    "!pip install scikit-surprise"
   ]
  },
  {
   "cell_type": "code",
   "execution_count": 14,
   "metadata": {},
   "outputs": [
    {
     "name": "stdout",
     "output_type": "stream",
     "text": [
      "Evaluating RMSE, MAE of algorithm SVD on 3 split(s).\n",
      "\n",
      "                  Fold 1  Fold 2  Fold 3  Mean    Std     \n",
      "RMSE (testset)    0.9457  0.9413  0.9480  0.9450  0.0028  \n",
      "MAE (testset)     0.7478  0.7421  0.7488  0.7462  0.0030  \n",
      "Fit time          0.28    0.30    0.28    0.29    0.01    \n",
      "Test time         0.11    0.06    0.10    0.09    0.02    \n"
     ]
    },
    {
     "data": {
      "text/plain": [
       "{'test_rmse': array([0.94565857, 0.94125198, 0.9479631 ]),\n",
       " 'test_mae': array([0.74784229, 0.74208428, 0.74879474]),\n",
       " 'fit_time': (0.2781350612640381, 0.3029959201812744, 0.2830672264099121),\n",
       " 'test_time': (0.10691404342651367, 0.06464529037475586, 0.09876418113708496)}"
      ]
     },
     "execution_count": 14,
     "metadata": {},
     "output_type": "execute_result"
    }
   ],
   "source": [
    "import pandas as pd\n",
    "from surprise import SVD, SVDpp, NMF, Dataset\n",
    "from surprise.model_selection import GridSearchCV, cross_validate\n",
    "\n",
    "# Load the movielens-100k dataset (download it if needed).\n",
    "data = Dataset.load_builtin('ml-100k')\n",
    "\n",
    "# Use the famous SVD algorithm.\n",
    "algo = SVD()\n",
    "\n",
    "raw_ratings = data.raw_ratings\n",
    "df = pd.DataFrame(raw_ratings, columns=[\"user_id\", \"item_id\", \"rating\", \"timestamp\"])\n",
    "\n",
    "# Run 5-fold cross-validation and print results.\n",
    "cross_validate(algo, data, measures=['RMSE', 'MAE'], cv=3, verbose=True)\n",
    "\n",
    "\n"
   ]
  },
  {
   "cell_type": "code",
   "execution_count": 15,
   "metadata": {},
   "outputs": [],
   "source": [
    "param_grid_svd = {\n",
    "    'n_factors': [50, 100, 150],\n",
    "    'lr_all': [0.002, 0.005, 0.01],\n",
    "    'reg_all': [0.02, 0.05, 0.1]\n",
    "}\n",
    "param_grid_svdpp = {\n",
    "    'n_factors': [50, 100],\n",
    "    'lr_all': [0.002, 0.005],\n",
    "    'reg_all': [0.02, 0.05]\n",
    "}\n",
    "param_grid_nmf = {\n",
    "    'n_factors': [15, 20, 25],\n",
    "    'biased': [True, False]\n",
    "}\n"
   ]
  },
  {
   "cell_type": "code",
   "execution_count": 16,
   "metadata": {},
   "outputs": [
    {
     "name": "stdout",
     "output_type": "stream",
     "text": [
      "Best SVD params: {'n_factors': 150, 'lr_all': 0.01, 'reg_all': 0.1}\n",
      "Best SVD RMSE: 0.926992446459138\n"
     ]
    }
   ],
   "source": [
    "# SVD\n",
    "gs_svd = GridSearchCV(SVD, param_grid_svd, measures=['rmse'], cv=3)\n",
    "gs_svd.fit(data)\n",
    "print(\"Best SVD params:\", gs_svd.best_params['rmse'])\n",
    "print(\"Best SVD RMSE:\", gs_svd.best_score['rmse'])"
   ]
  },
  {
   "cell_type": "code",
   "execution_count": 18,
   "metadata": {},
   "outputs": [
    {
     "name": "stdout",
     "output_type": "stream",
     "text": [
      "Best SVD++ params: {'n_factors': 50, 'lr_all': 0.005, 'reg_all': 0.02}\n",
      "Best SVD++ RMSE: 0.9272780705021462\n"
     ]
    }
   ],
   "source": [
    "# SVD++\n",
    "gs_svdpp = GridSearchCV(SVDpp, param_grid_svdpp, measures=['rmse'], cv=3)\n",
    "gs_svdpp.fit(data)\n",
    "print(\"Best SVD++ params:\", gs_svdpp.best_params['rmse'])\n",
    "print(\"Best SVD++ RMSE:\", gs_svdpp.best_score['rmse'])"
   ]
  },
  {
   "cell_type": "code",
   "execution_count": 17,
   "metadata": {},
   "outputs": [
    {
     "name": "stdout",
     "output_type": "stream",
     "text": [
      "Best NMF params: {'n_factors': 15, 'biased': False}\n",
      "Best NMF RMSE: 0.9752307370039272\n"
     ]
    }
   ],
   "source": [
    "# NMF\n",
    "gs_nmf = GridSearchCV(NMF, param_grid_nmf, measures=['rmse'], cv=3)\n",
    "gs_nmf.fit(data)\n",
    "print(\"Best NMF params:\", gs_nmf.best_params['rmse'])\n",
    "print(\"Best NMF RMSE:\", gs_nmf.best_score['rmse'])"
   ]
  },
  {
   "cell_type": "markdown",
   "metadata": {},
   "source": [
    "The best Model is NMF with parameters: {'n_factors': 15, 'biased': False}\n",
    "     "
   ]
  }
 ],
 "metadata": {
  "kernelspec": {
   "display_name": "base",
   "language": "python",
   "name": "python3"
  },
  "language_info": {
   "codemirror_mode": {
    "name": "ipython",
    "version": 3
   },
   "file_extension": ".py",
   "mimetype": "text/x-python",
   "name": "python",
   "nbconvert_exporter": "python",
   "pygments_lexer": "ipython3",
   "version": "3.12.4"
  }
 },
 "nbformat": 4,
 "nbformat_minor": 2
}
